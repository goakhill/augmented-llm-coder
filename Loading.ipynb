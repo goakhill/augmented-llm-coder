{
 "cells": [
  {
   "cell_type": "markdown",
   "id": "1b64d3e3-a816-4dff-b10f-9377b67396c5",
   "metadata": {},
   "source": [
    "# Load, split and embed Java best practices document"
   ]
  },
  {
   "cell_type": "code",
   "execution_count": 2,
   "id": "95895408-c2ac-45f7-9037-c3f59de9a4d5",
   "metadata": {},
   "outputs": [],
   "source": [
    "import pandas as pd\n",
    "import numpy as np"
   ]
  },
  {
   "cell_type": "markdown",
   "id": "1bd83d33-de79-43f7-99a8-20d8de16a3b4",
   "metadata": {},
   "source": [
    "## Best Practices Data Load"
   ]
  },
  {
   "cell_type": "markdown",
   "id": "a1f9f361-00c6-482b-9016-abd3b02191c2",
   "metadata": {},
   "source": [
    "### From pdf"
   ]
  },
  {
   "cell_type": "code",
   "execution_count": 4,
   "id": "6181755b-375e-4150-b546-095f514bcff5",
   "metadata": {},
   "outputs": [],
   "source": [
    "from langchain_community.document_loaders import PyPDFLoader\n",
    "\n",
    "loader_pdf_bp = PyPDFLoader(\"best_practices/codeconventions-150003.pdf\")\n",
    "oracle_bp = loader_pdf_bp.load()"
   ]
  },
  {
   "cell_type": "markdown",
   "id": "0b97174f-fb3b-451e-b247-fa69200e3658",
   "metadata": {},
   "source": [
    "### From html"
   ]
  },
  {
   "cell_type": "markdown",
   "id": "1590b07a-5ba9-4c3a-83fa-3cc4a0a88abd",
   "metadata": {},
   "source": [
    "https://www.baeldung.com/java-clean-code"
   ]
  },
  {
   "cell_type": "code",
   "execution_count": 5,
   "id": "8d82ac47-7a76-49a9-bb5f-8ff04fd0cec8",
   "metadata": {},
   "outputs": [],
   "source": [
    "from langchain_community.document_loaders import UnstructuredHTMLLoader\n",
    "loader_html_bp = UnstructuredHTMLLoader(\"best_practices/Baeldung.html\")\n",
    "baeldung_bp = loader_html_bp.load()"
   ]
  },
  {
   "cell_type": "markdown",
   "id": "d5806199-7839-499d-8fb5-71d089109012",
   "metadata": {},
   "source": [
    "https://www.geeksforgeeks.org/java-best-practices/"
   ]
  },
  {
   "cell_type": "code",
   "execution_count": 6,
   "id": "6f8fa518-3012-462a-bd71-d433aa9773b1",
   "metadata": {},
   "outputs": [],
   "source": [
    "loader_html_bp = UnstructuredHTMLLoader(\"best_practices/GeeksforGeeks.html\")\n",
    "geeks_bp = loader_html_bp.load()"
   ]
  },
  {
   "cell_type": "markdown",
   "id": "e55ac6d3-248e-4019-a5b3-de45598c0727",
   "metadata": {},
   "source": [
    "https://blog.jetbrains.com/idea/2024/02/java-best-practices/"
   ]
  },
  {
   "cell_type": "code",
   "execution_count": 7,
   "id": "5aee6b91-553a-47d9-aa30-380ea88db750",
   "metadata": {},
   "outputs": [],
   "source": [
    "loader_html_bp = UnstructuredHTMLLoader(\"best_practices/IntelliJ-IDEA.html\")\n",
    "intelliJ_bp = loader_html_bp.load()"
   ]
  },
  {
   "cell_type": "markdown",
   "id": "61b7ba68-19b9-4610-a200-506432803382",
   "metadata": {},
   "source": [
    "## Document Split"
   ]
  },
  {
   "cell_type": "code",
   "execution_count": 8,
   "id": "b9249f14-024e-4ba8-a6e1-5d51a0d824bf",
   "metadata": {},
   "outputs": [],
   "source": [
    "from langchain_text_splitters import RecursiveCharacterTextSplitter"
   ]
  },
  {
   "cell_type": "code",
   "execution_count": 11,
   "id": "a05a69d4-c7a0-44d6-8ad1-1a306cd4aeb1",
   "metadata": {},
   "outputs": [
    {
     "data": {
      "text/plain": [
       "58"
      ]
     },
     "execution_count": 11,
     "metadata": {},
     "output_type": "execute_result"
    }
   ],
   "source": [
    "chunk_size = 800 \n",
    "chunk_overlap = 80\n",
    "bp_pdf_splitter = RecursiveCharacterTextSplitter(\n",
    "    chunk_size=chunk_size, chunk_overlap=chunk_overlap\n",
    ")\n",
    "texts_oracle_bp = bp_pdf_splitter.split_documents(oracle_bp)\n",
    "len(texts_oracle_bp)"
   ]
  },
  {
   "cell_type": "code",
   "execution_count": 12,
   "id": "a10f585a-34ad-499c-82ee-1673966273f3",
   "metadata": {},
   "outputs": [
    {
     "data": {
      "text/plain": [
       "37"
      ]
     },
     "execution_count": 12,
     "metadata": {},
     "output_type": "execute_result"
    }
   ],
   "source": [
    "texts_baeldung_bp = bp_pdf_splitter.split_documents(baeldung_bp)\n",
    "len(texts_baeldung_bp)"
   ]
  },
  {
   "cell_type": "code",
   "execution_count": 14,
   "id": "e2609150-dbba-49cd-8992-fcd3b43fb336",
   "metadata": {},
   "outputs": [
    {
     "data": {
      "text/plain": [
       "49"
      ]
     },
     "execution_count": 14,
     "metadata": {},
     "output_type": "execute_result"
    }
   ],
   "source": [
    "texts_geeks_bp = bp_pdf_splitter.split_documents(geeks_bp)\n",
    "len(texts_geeks_bp)"
   ]
  },
  {
   "cell_type": "code",
   "execution_count": 15,
   "id": "2943785a-c151-44d2-9e12-9028c03197f8",
   "metadata": {},
   "outputs": [
    {
     "data": {
      "text/plain": [
       "29"
      ]
     },
     "execution_count": 15,
     "metadata": {},
     "output_type": "execute_result"
    }
   ],
   "source": [
    "texts_intelliJ_bp = bp_pdf_splitter.split_documents(intelliJ_bp)\n",
    "len(texts_intelliJ_bp)"
   ]
  },
  {
   "cell_type": "markdown",
   "id": "0e10f898-f902-4ebd-a1f2-0941801c2f41",
   "metadata": {},
   "source": [
    "### Joining the split texts"
   ]
  },
  {
   "cell_type": "code",
   "execution_count": 16,
   "id": "1c6a70a0-1f54-4aad-bb33-f87d3fc1b7b3",
   "metadata": {},
   "outputs": [
    {
     "data": {
      "text/plain": [
       "173"
      ]
     },
     "execution_count": 16,
     "metadata": {},
     "output_type": "execute_result"
    }
   ],
   "source": [
    "texts = texts_oracle_bp + texts_baeldung_bp + texts_geeks_bp + texts_intelliJ_bp\n",
    "len(texts)"
   ]
  },
  {
   "cell_type": "code",
   "execution_count": 18,
   "id": "9a255d24-27d8-4bdc-b5a7-bbf8c2a155dd",
   "metadata": {},
   "outputs": [],
   "source": [
    "texts_nested = [texts_oracle_bp + texts_baeldung_bp + texts_geeks_bp + texts_intelliJ_bp] #nested"
   ]
  },
  {
   "cell_type": "markdown",
   "id": "8d434c33-2d27-4ab8-868c-4b0618b298d4",
   "metadata": {},
   "source": [
    "## Ollama Embedding and Chroma Vectorstore"
   ]
  },
  {
   "cell_type": "code",
   "execution_count": 17,
   "id": "f6bc7245-33bb-4384-8c04-4451730e0c38",
   "metadata": {},
   "outputs": [],
   "source": [
    "from langchain_community.embeddings import OllamaEmbeddings\n",
    "from tqdm import tqdm\n",
    "embeddings = OllamaEmbeddings(model=\"gemma:7b-instruct\", num_gpu = 2,   num_thread = 24, show_progress = True)"
   ]
  },
  {
   "cell_type": "code",
   "execution_count": 24,
   "id": "4fcc0ddc-9f94-4f13-a7e2-af66eb95d817",
   "metadata": {},
   "outputs": [
    {
     "name": "stderr",
     "output_type": "stream",
     "text": [
      "OllamaEmbeddings: 100%|███████████████████████| 173/173 [01:41<00:00,  1.70it/s]\n"
     ]
    }
   ],
   "source": [
    "from langchain_community.vectorstores import Chroma\n",
    "db = Chroma.from_documents(documents = texts, embedding = embeddings,\n",
    "                           persist_directory=\"bp_chroma_db\")"
   ]
  },
  {
   "cell_type": "code",
   "execution_count": 25,
   "id": "2078d11a-b3ba-4e23-9303-3c6fc60bb9bc",
   "metadata": {},
   "outputs": [],
   "source": [
    "retriever = db.as_retriever()"
   ]
  },
  {
   "cell_type": "raw",
   "id": "dab1b285-fc76-46e6-bccb-c779cc49cf7a",
   "metadata": {},
   "source": [
    "# save to disk\n",
    "db2 = Chroma.from_documents(docs, embedding_function, persist_directory=\"./chroma_db\")\n",
    "docs = db2.similarity_search(query)\n",
    "\n",
    "# load from disk\n",
    "db3 = Chroma(persist_directory=\"./chroma_db\", embedding_function=embedding_function)\n",
    "docs = db3.similarity_search(query)\n",
    "print(docs[0].page_content)"
   ]
  }
 ],
 "metadata": {
  "kernelspec": {
   "display_name": "Python 3 (ipykernel)",
   "language": "python",
   "name": "python3"
  },
  "language_info": {
   "codemirror_mode": {
    "name": "ipython",
    "version": 3
   },
   "file_extension": ".py",
   "mimetype": "text/x-python",
   "name": "python",
   "nbconvert_exporter": "python",
   "pygments_lexer": "ipython3",
   "version": "3.11.7"
  }
 },
 "nbformat": 4,
 "nbformat_minor": 5
}
